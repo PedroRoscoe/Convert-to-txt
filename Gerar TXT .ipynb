{
 "cells": [
  {
   "cell_type": "markdown",
   "metadata": {},
   "source": [
    "### Imports"
   ]
  },
  {
   "cell_type": "code",
   "execution_count": 1,
   "metadata": {},
   "outputs": [],
   "source": [
    "import pandas as pd\n",
    "import os\n",
    "import math as m\n",
    "\n"
   ]
  },
  {
   "cell_type": "markdown",
   "metadata": {},
   "source": [
    "### Definindo diretório local onde está os arquivos"
   ]
  },
  {
   "cell_type": "code",
   "execution_count": 2,
   "metadata": {},
   "outputs": [
    {
     "name": "stdout",
     "output_type": "stream",
     "text": [
      " O volume na unidade C nÆo tem nome.\n",
      " O N£mero de S‚rie do Volume ‚ 1EAC-A971\n",
      "\n",
      " Pasta de C:\\Users\\Felipe\\Downloads\n",
      "\n",
      "18/08/2021  09:33    <DIR>          .\n",
      "18/08/2021  09:33    <DIR>          ..\n",
      "18/08/2021  09:25    <DIR>          .ipynb_checkpoints\n",
      "09/08/2021  10:55           348.665 35383f0f-1d82-48b3-8fd4-0a81a1f33e44.jpg\n",
      "12/08/2021  09:33            16.649 A1- Registro de OKRs - sem preenchimento.xlsx\n",
      "12/08/2021  10:18            16.821 A2 - Registro de OKRs - VisÆo e MissÆo.xlsx\n",
      "12/08/2021  10:41            17.021 A3 - Registro de OKRs - OKR criado.xlsx\n",
      "12/08/2021  10:55            17.340 A5 - Registro de OKRs - Scoring.xlsx\n",
      "17/08/2021  09:59             1.404 cursos-2021-08-17.txt\n",
      "18/08/2021  09:33             4.865 Gerar TXT.ipynb\n",
      "17/08/2021  09:25           406.254 Jornada_Lider_Evolution_v2.pdf\n",
      "18/08/2021  09:27         3.994.840 Modelo excel1 1909(3) (9).xlsx\n",
      "18/08/2021  09:32               186 teste.txt\n",
      "              10 arquivo(s)      4.824.045 bytes\n",
      "               3 pasta(s)   32.626.372.608 bytes dispon¡veis\n"
     ]
    }
   ],
   "source": [
    "#os.chdir(\"C:/Users/pedro/OneDrive/Área de Trabalho/Orçamento\")\n",
    "os.chdir(\"C:/Users/Felipe/Downloads\")\n",
    "!dir"
   ]
  },
  {
   "cell_type": "markdown",
   "metadata": {},
   "source": [
    "### Ler o excel, pegar a coluna de criação do txt a partir da segunda linha"
   ]
  },
  {
   "cell_type": "code",
   "execution_count": 3,
   "metadata": {},
   "outputs": [],
   "source": [
    "data1=pd.read_excel(\"Modelo excel1 1909(3) (9).xlsx\")\n",
    "data=data1[\"Unnamed: 10\"][1:]"
   ]
  },
  {
   "cell_type": "code",
   "execution_count": 4,
   "metadata": {},
   "outputs": [
    {
     "data": {
      "text/plain": [
       "1                            0000190913082021\n",
       "2       481100758300100002021090000000041960D\n",
       "3       871900758321300002021090000000002973D\n",
       "4                                         NaN\n",
       "5       780000758281000002021090000000000200D\n",
       "                        ...                  \n",
       "1994                                      NaN\n",
       "1995                                      NaN\n",
       "1996                                      NaN\n",
       "1997                                      NaN\n",
       "1998                                      NaN\n",
       "Name: Unnamed: 10, Length: 1998, dtype: object"
      ]
     },
     "execution_count": 4,
     "metadata": {},
     "output_type": "execute_result"
    }
   ],
   "source": [
    "data"
   ]
  },
  {
   "cell_type": "code",
   "execution_count": 11,
   "metadata": {},
   "outputs": [
    {
     "data": {
      "text/plain": [
       "Index(['Unnamed: 0', 'Unnamed: 1', 'Unnamed: 2', 'Unnamed: 3', 'Unnamed: 4',\n",
       "       'Unnamed: 5', 'Unnamed: 6', 'Unnamed: 7', 'Unnamed: 8', 'Unnamed: 9',\n",
       "       'Unnamed: 10', 'Unnamed: 11', 'Unnamed: 12', 'Unnamed: 13',\n",
       "       'Unnamed: 14'],\n",
       "      dtype='object')"
      ]
     },
     "execution_count": 11,
     "metadata": {},
     "output_type": "execute_result"
    }
   ],
   "source": [
    "data2=pd.read_excel(\"Modelo excel1 1909(3) (9).xlsx\", sheet_name=\"ORC_1909\")\n",
    "data2.columns"
   ]
  },
  {
   "cell_type": "code",
   "execution_count": 14,
   "metadata": {},
   "outputs": [],
   "source": [
    "data2=data2['Unnamed: 6'][1:]"
   ]
  },
  {
   "cell_type": "markdown",
   "metadata": {},
   "source": [
    "### Preparar arquivo de saida TXT"
   ]
  },
  {
   "cell_type": "code",
   "execution_count": 15,
   "metadata": {},
   "outputs": [],
   "source": [
    "arquivo = open('teste.txt', 'w')"
   ]
  },
  {
   "cell_type": "markdown",
   "metadata": {},
   "source": [
    "### Criar uma STRG com tadas as linhas do arquivo TXT"
   ]
  },
  {
   "cell_type": "code",
   "execution_count": 16,
   "metadata": {},
   "outputs": [],
   "source": [
    "final=str(int((data1[\"Unnamed: 11\"][1])))\n",
    "linha=\"\"\n",
    "for x in range(len(data)):\n",
    "    value=data.iloc[x]\n",
    "    \n",
    "    if (pd.notnull(value)):\n",
    "        linha=linha+value+\"\\n\"\n",
    "\n",
    "for x in range(len(data2)):\n",
    "    value=data2.iloc[x]\n",
    "    \n",
    "    if (pd.notnull(value)):\n",
    "        linha=linha+value+\"\\n\"\n",
    "\n",
    "linha=linha+final"
   ]
  },
  {
   "cell_type": "markdown",
   "metadata": {},
   "source": [
    "### Escrever e fechar o arquivo"
   ]
  },
  {
   "cell_type": "code",
   "execution_count": 17,
   "metadata": {},
   "outputs": [],
   "source": [
    "arquivo.writelines(linha)\n",
    "arquivo.close()"
   ]
  },
  {
   "cell_type": "code",
   "execution_count": 18,
   "metadata": {},
   "outputs": [],
   "source": [
    "with open('teste.txt') as f:\n",
    "    lines = f.readlines()"
   ]
  },
  {
   "cell_type": "code",
   "execution_count": 19,
   "metadata": {},
   "outputs": [
    {
     "data": {
      "text/plain": [
       "['0000190913082021\\n',\n",
       " '481100758300100002021090000000041960D\\n',\n",
       " '871900758321300002021090000000002973D\\n',\n",
       " '780000758281000002021090000000000200D\\n',\n",
       " '781000758321100002021090000000031213D\\n',\n",
       " '190900758281000002021090000000031323D\\n',\n",
       " '190900758300100002021090000000027274D\\n',\n",
       " '190900758321100002021090000000023009D\\n',\n",
       " '190900758321300002021090000000025227D\\n',\n",
       " '999900000010']"
      ]
     },
     "execution_count": 19,
     "metadata": {},
     "output_type": "execute_result"
    }
   ],
   "source": [
    "lines"
   ]
  },
  {
   "cell_type": "code",
   "execution_count": null,
   "metadata": {},
   "outputs": [],
   "source": []
  }
 ],
 "metadata": {
  "kernelspec": {
   "display_name": "Python 3",
   "language": "python",
   "name": "python3"
  },
  "language_info": {
   "codemirror_mode": {
    "name": "ipython",
    "version": 3
   },
   "file_extension": ".py",
   "mimetype": "text/x-python",
   "name": "python",
   "nbconvert_exporter": "python",
   "pygments_lexer": "ipython3",
   "version": "3.8.5"
  }
 },
 "nbformat": 4,
 "nbformat_minor": 5
}
